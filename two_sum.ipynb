{
  "nbformat": 4,
  "nbformat_minor": 0,
  "metadata": {
    "colab": {
      "provenance": [],
      "authorship_tag": "ABX9TyPGQZqW7GM+Dz3BymlMJm0W",
      "include_colab_link": true
    },
    "kernelspec": {
      "name": "python3",
      "display_name": "Python 3"
    },
    "language_info": {
      "name": "python"
    }
  },
  "cells": [
    {
      "cell_type": "markdown",
      "metadata": {
        "id": "view-in-github",
        "colab_type": "text"
      },
      "source": [
        "<a href=\"https://colab.research.google.com/github/ErickRandria/ErickRandria/blob/main/two_sum.ipynb\" target=\"_parent\"><img src=\"https://colab.research.google.com/assets/colab-badge.svg\" alt=\"Open In Colab\"/></a>"
      ]
    },
    {
      "cell_type": "code",
      "execution_count": null,
      "metadata": {
        "id": "cUjTvMBIAUPv"
      },
      "outputs": [],
      "source": [
        "# Define a class object oop\n",
        "class Solution(object):\n",
        "  def twoSum(nums, target):\n",
        "    for i in nums:\n",
        "      j = target - i\n",
        "      tmp_index = nums.index(i) + 1\n",
        "      tmp_num = nums[tmp_index:]\n",
        "      if j in tmp_num:\n",
        "        return [nums.index(i), tmp_index + tmp_num.index(j)]\n",
        "  def twoSum2(nums, target):\n",
        "    lookup = {}\n",
        "    for i, num in enumerate(nums):\n",
        "      if target - num in lookup:\n",
        "        return [lookup[target - num], i]\n",
        "      lookup[num] = i"
      ]
    },
    {
      "cell_type": "code",
      "source": [
        "# test of the algorithm\n",
        "nums = [2,11,12,7]\n",
        "target = 9\n",
        "result1 = Solution.twoSum(nums, target)\n",
        "print(result1)\n",
        "\n",
        "result2 = Solution.twoSum2(nums, target)\n",
        "print(result2)"
      ],
      "metadata": {
        "colab": {
          "base_uri": "https://localhost:8080/"
        },
        "id": "xXP1DfMoIez7",
        "outputId": "398351e0-b3e9-4241-a676-94b4de0da0c8"
      },
      "execution_count": null,
      "outputs": [
        {
          "output_type": "stream",
          "name": "stdout",
          "text": [
            "[0, 3]\n",
            "[0, 3]\n"
          ]
        }
      ]
    },
    {
      "cell_type": "code",
      "source": [],
      "metadata": {
        "id": "z8QgV6jIKKLj"
      },
      "execution_count": null,
      "outputs": []
    }
  ]
}